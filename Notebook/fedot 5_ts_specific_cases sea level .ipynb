{
 "cells": [
  {
   "cell_type": "code",
   "execution_count": 1,
   "id": "1a2fc5d8",
   "metadata": {},
   "outputs": [
    {
     "name": "stderr",
     "output_type": "stream",
     "text": [
      "/var/folders/lh/sktr_jn11jjgtqxbdlvkrhtm0000gn/T/ipykernel_94530/2328779184.py:5: FutureWarning: The pandas.datetime class is deprecated and will be removed from pandas in a future version. Import from datetime module instead.\n",
      "  from pandas import datetime\n"
     ]
    },
    {
     "ename": "ImportError",
     "evalue": "Traceback (most recent call last):\n  File \"/Users/simennaess/Library/Python/3.8/lib/python/site-packages/tensorflow/python/pywrap_tensorflow.py\", line 58, in <module>\n    from tensorflow.python.pywrap_tensorflow_internal import *\n  File \"/Users/simennaess/Library/Python/3.8/lib/python/site-packages/tensorflow/python/pywrap_tensorflow_internal.py\", line 28, in <module>\n    _pywrap_tensorflow_internal = swig_import_helper()\n  File \"/Users/simennaess/Library/Python/3.8/lib/python/site-packages/tensorflow/python/pywrap_tensorflow_internal.py\", line 24, in swig_import_helper\n    _mod = imp.load_module('_pywrap_tensorflow_internal', fp, pathname, description)\n  File \"/Library/Developer/CommandLineTools/Library/Frameworks/Python3.framework/Versions/3.8/lib/python3.8/imp.py\", line 242, in load_module\n    return load_dynamic(name, filename, file)\n  File \"/Library/Developer/CommandLineTools/Library/Frameworks/Python3.framework/Versions/3.8/lib/python3.8/imp.py\", line 342, in load_dynamic\n    return _load(spec)\nImportError: dlopen(/Users/simennaess/Library/Python/3.8/lib/python/site-packages/tensorflow/python/_pywrap_tensorflow_internal.so, 0x0006): tried: '/Users/simennaess/Library/Python/3.8/lib/python/site-packages/tensorflow/python/_pywrap_tensorflow_internal.so' (mach-o file, but is an incompatible architecture (have 'x86_64', need 'arm64e'))\n\n\nFailed to load the native TensorFlow runtime.\n\nSee https://www.tensorflow.org/install/install_sources#common_installation_problems\n\nfor some common reasons and solutions.  Include the entire stack trace\nabove this error message when asking for help.",
     "output_type": "error",
     "traceback": [
      "\u001b[0;31m---------------------------------------------------------------------------\u001b[0m",
      "\u001b[0;31mImportError\u001b[0m                               Traceback (most recent call last)",
      "File \u001b[0;32m~/Library/Python/3.8/lib/python/site-packages/tensorflow/python/pywrap_tensorflow.py:58\u001b[0m, in \u001b[0;36m<module>\u001b[0;34m\u001b[0m\n\u001b[1;32m     56\u001b[0m   sys\u001b[38;5;241m.\u001b[39msetdlopenflags(_default_dlopen_flags \u001b[38;5;241m|\u001b[39m ctypes\u001b[38;5;241m.\u001b[39mRTLD_LOCAL)\n\u001b[0;32m---> 58\u001b[0m \u001b[38;5;28;01mfrom\u001b[39;00m \u001b[38;5;21;01mtensorflow\u001b[39;00m\u001b[38;5;21;01m.\u001b[39;00m\u001b[38;5;21;01mpython\u001b[39;00m\u001b[38;5;21;01m.\u001b[39;00m\u001b[38;5;21;01mpywrap_tensorflow_internal\u001b[39;00m \u001b[38;5;28;01mimport\u001b[39;00m \u001b[38;5;241m*\u001b[39m\n\u001b[1;32m     59\u001b[0m \u001b[38;5;28;01mfrom\u001b[39;00m \u001b[38;5;21;01mtensorflow\u001b[39;00m\u001b[38;5;21;01m.\u001b[39;00m\u001b[38;5;21;01mpython\u001b[39;00m\u001b[38;5;21;01m.\u001b[39;00m\u001b[38;5;21;01mpywrap_tensorflow_internal\u001b[39;00m \u001b[38;5;28;01mimport\u001b[39;00m __version__\n",
      "File \u001b[0;32m~/Library/Python/3.8/lib/python/site-packages/tensorflow/python/pywrap_tensorflow_internal.py:28\u001b[0m, in \u001b[0;36m<module>\u001b[0;34m\u001b[0m\n\u001b[1;32m     27\u001b[0m         \u001b[38;5;28;01mreturn\u001b[39;00m _mod\n\u001b[0;32m---> 28\u001b[0m _pywrap_tensorflow_internal \u001b[38;5;241m=\u001b[39m \u001b[43mswig_import_helper\u001b[49m\u001b[43m(\u001b[49m\u001b[43m)\u001b[49m\n\u001b[1;32m     29\u001b[0m \u001b[38;5;28;01mdel\u001b[39;00m swig_import_helper\n",
      "File \u001b[0;32m~/Library/Python/3.8/lib/python/site-packages/tensorflow/python/pywrap_tensorflow_internal.py:24\u001b[0m, in \u001b[0;36mswig_import_helper\u001b[0;34m()\u001b[0m\n\u001b[1;32m     23\u001b[0m \u001b[38;5;28;01mtry\u001b[39;00m:\n\u001b[0;32m---> 24\u001b[0m     _mod \u001b[38;5;241m=\u001b[39m \u001b[43mimp\u001b[49m\u001b[38;5;241;43m.\u001b[39;49m\u001b[43mload_module\u001b[49m\u001b[43m(\u001b[49m\u001b[38;5;124;43m'\u001b[39;49m\u001b[38;5;124;43m_pywrap_tensorflow_internal\u001b[39;49m\u001b[38;5;124;43m'\u001b[39;49m\u001b[43m,\u001b[49m\u001b[43m \u001b[49m\u001b[43mfp\u001b[49m\u001b[43m,\u001b[49m\u001b[43m \u001b[49m\u001b[43mpathname\u001b[49m\u001b[43m,\u001b[49m\u001b[43m \u001b[49m\u001b[43mdescription\u001b[49m\u001b[43m)\u001b[49m\n\u001b[1;32m     25\u001b[0m \u001b[38;5;28;01mfinally\u001b[39;00m:\n",
      "File \u001b[0;32m/Library/Developer/CommandLineTools/Library/Frameworks/Python3.framework/Versions/3.8/lib/python3.8/imp.py:242\u001b[0m, in \u001b[0;36mload_module\u001b[0;34m(name, file, filename, details)\u001b[0m\n\u001b[1;32m    241\u001b[0m     \u001b[38;5;28;01melse\u001b[39;00m:\n\u001b[0;32m--> 242\u001b[0m         \u001b[38;5;28;01mreturn\u001b[39;00m \u001b[43mload_dynamic\u001b[49m\u001b[43m(\u001b[49m\u001b[43mname\u001b[49m\u001b[43m,\u001b[49m\u001b[43m \u001b[49m\u001b[43mfilename\u001b[49m\u001b[43m,\u001b[49m\u001b[43m \u001b[49m\u001b[43mfile\u001b[49m\u001b[43m)\u001b[49m\n\u001b[1;32m    243\u001b[0m \u001b[38;5;28;01melif\u001b[39;00m type_ \u001b[38;5;241m==\u001b[39m PKG_DIRECTORY:\n",
      "File \u001b[0;32m/Library/Developer/CommandLineTools/Library/Frameworks/Python3.framework/Versions/3.8/lib/python3.8/imp.py:342\u001b[0m, in \u001b[0;36mload_dynamic\u001b[0;34m(name, path, file)\u001b[0m\n\u001b[1;32m    340\u001b[0m spec \u001b[38;5;241m=\u001b[39m importlib\u001b[38;5;241m.\u001b[39mmachinery\u001b[38;5;241m.\u001b[39mModuleSpec(\n\u001b[1;32m    341\u001b[0m     name\u001b[38;5;241m=\u001b[39mname, loader\u001b[38;5;241m=\u001b[39mloader, origin\u001b[38;5;241m=\u001b[39mpath)\n\u001b[0;32m--> 342\u001b[0m \u001b[38;5;28;01mreturn\u001b[39;00m \u001b[43m_load\u001b[49m\u001b[43m(\u001b[49m\u001b[43mspec\u001b[49m\u001b[43m)\u001b[49m\n",
      "\u001b[0;31mImportError\u001b[0m: dlopen(/Users/simennaess/Library/Python/3.8/lib/python/site-packages/tensorflow/python/_pywrap_tensorflow_internal.so, 0x0006): tried: '/Users/simennaess/Library/Python/3.8/lib/python/site-packages/tensorflow/python/_pywrap_tensorflow_internal.so' (mach-o file, but is an incompatible architecture (have 'x86_64', need 'arm64e'))",
      "\nDuring handling of the above exception, another exception occurred:\n",
      "\u001b[0;31mImportError\u001b[0m                               Traceback (most recent call last)",
      "Input \u001b[0;32mIn [1]\u001b[0m, in \u001b[0;36m<module>\u001b[0;34m\u001b[0m\n\u001b[1;32m      6\u001b[0m \u001b[38;5;28;01mfrom\u001b[39;00m \u001b[38;5;21;01msklearn\u001b[39;00m\u001b[38;5;21;01m.\u001b[39;00m\u001b[38;5;21;01mmetrics\u001b[39;00m \u001b[38;5;28;01mimport\u001b[39;00m mean_squared_error\n\u001b[1;32m      7\u001b[0m \u001b[38;5;28;01mfrom\u001b[39;00m \u001b[38;5;21;01msklearn\u001b[39;00m\u001b[38;5;21;01m.\u001b[39;00m\u001b[38;5;21;01mpreprocessing\u001b[39;00m \u001b[38;5;28;01mimport\u001b[39;00m MinMaxScaler\n\u001b[0;32m----> 8\u001b[0m \u001b[38;5;28;01mfrom\u001b[39;00m \u001b[38;5;21;01mkeras\u001b[39;00m\u001b[38;5;21;01m.\u001b[39;00m\u001b[38;5;21;01mmodels\u001b[39;00m \u001b[38;5;28;01mimport\u001b[39;00m Sequential\n\u001b[1;32m      9\u001b[0m \u001b[38;5;28;01mfrom\u001b[39;00m \u001b[38;5;21;01mkeras\u001b[39;00m\u001b[38;5;21;01m.\u001b[39;00m\u001b[38;5;21;01mlayers\u001b[39;00m \u001b[38;5;28;01mimport\u001b[39;00m Dense\n\u001b[1;32m     10\u001b[0m \u001b[38;5;28;01mfrom\u001b[39;00m \u001b[38;5;21;01mkeras\u001b[39;00m\u001b[38;5;21;01m.\u001b[39;00m\u001b[38;5;21;01mlayers\u001b[39;00m \u001b[38;5;28;01mimport\u001b[39;00m LSTM\n",
      "File \u001b[0;32m~/Library/Python/3.8/lib/python/site-packages/keras/__init__.py:21\u001b[0m, in \u001b[0;36m<module>\u001b[0;34m\u001b[0m\n\u001b[1;32m     15\u001b[0m \u001b[38;5;124;03m\"\"\"Implementation of the Keras API, the high-level API of TensorFlow.\u001b[39;00m\n\u001b[1;32m     16\u001b[0m \n\u001b[1;32m     17\u001b[0m \u001b[38;5;124;03mDetailed documentation and user guides are available at\u001b[39;00m\n\u001b[1;32m     18\u001b[0m \u001b[38;5;124;03m[keras.io](https://keras.io).\u001b[39;00m\n\u001b[1;32m     19\u001b[0m \u001b[38;5;124;03m\"\"\"\u001b[39;00m\n\u001b[1;32m     20\u001b[0m \u001b[38;5;66;03m# pylint: disable=unused-import\u001b[39;00m\n\u001b[0;32m---> 21\u001b[0m \u001b[38;5;28;01mfrom\u001b[39;00m \u001b[38;5;21;01mtensorflow\u001b[39;00m\u001b[38;5;21;01m.\u001b[39;00m\u001b[38;5;21;01mpython\u001b[39;00m \u001b[38;5;28;01mimport\u001b[39;00m tf2\n\u001b[1;32m     22\u001b[0m \u001b[38;5;28;01mfrom\u001b[39;00m \u001b[38;5;21;01mkeras\u001b[39;00m \u001b[38;5;28;01mimport\u001b[39;00m distribute\n\u001b[1;32m     24\u001b[0m \u001b[38;5;66;03m# See b/110718070#comment18 for more details about this import.\u001b[39;00m\n",
      "File \u001b[0;32m~/Library/Python/3.8/lib/python/site-packages/tensorflow/__init__.py:24\u001b[0m, in \u001b[0;36m<module>\u001b[0;34m\u001b[0m\n\u001b[1;32m     21\u001b[0m \u001b[38;5;28;01mfrom\u001b[39;00m \u001b[38;5;21;01m__future__\u001b[39;00m \u001b[38;5;28;01mimport\u001b[39;00m print_function\n\u001b[1;32m     23\u001b[0m \u001b[38;5;66;03m# pylint: disable=g-bad-import-order\u001b[39;00m\n\u001b[0;32m---> 24\u001b[0m \u001b[38;5;28;01mfrom\u001b[39;00m \u001b[38;5;21;01mtensorflow\u001b[39;00m\u001b[38;5;21;01m.\u001b[39;00m\u001b[38;5;21;01mpython\u001b[39;00m \u001b[38;5;28;01mimport\u001b[39;00m pywrap_tensorflow  \u001b[38;5;66;03m# pylint: disable=unused-import\u001b[39;00m\n\u001b[1;32m     25\u001b[0m \u001b[38;5;66;03m# pylint: disable=wildcard-import\u001b[39;00m\n\u001b[1;32m     26\u001b[0m \u001b[38;5;28;01mfrom\u001b[39;00m \u001b[38;5;21;01mtensorflow\u001b[39;00m\u001b[38;5;21;01m.\u001b[39;00m\u001b[38;5;21;01mtools\u001b[39;00m\u001b[38;5;21;01m.\u001b[39;00m\u001b[38;5;21;01mapi\u001b[39;00m\u001b[38;5;21;01m.\u001b[39;00m\u001b[38;5;21;01mgenerator\u001b[39;00m\u001b[38;5;21;01m.\u001b[39;00m\u001b[38;5;21;01mapi\u001b[39;00m \u001b[38;5;28;01mimport\u001b[39;00m \u001b[38;5;241m*\u001b[39m  \u001b[38;5;66;03m# pylint: disable=redefined-builtin\u001b[39;00m\n",
      "File \u001b[0;32m~/Library/Python/3.8/lib/python/site-packages/tensorflow/python/__init__.py:49\u001b[0m, in \u001b[0;36m<module>\u001b[0;34m\u001b[0m\n\u001b[1;32m     32\u001b[0m \u001b[38;5;66;03m# TODO(drpng): write up instructions for editing this file in a doc and point to\u001b[39;00m\n\u001b[1;32m     33\u001b[0m \u001b[38;5;66;03m# the doc instead.\u001b[39;00m\n\u001b[1;32m     34\u001b[0m \u001b[38;5;66;03m# If you want to edit this file to expose modules in public tensorflow API, you\u001b[39;00m\n\u001b[0;32m   (...)\u001b[0m\n\u001b[1;32m     44\u001b[0m \u001b[38;5;66;03m# go/tf-wildcard-import\u001b[39;00m\n\u001b[1;32m     45\u001b[0m \u001b[38;5;66;03m# pylint: disable=wildcard-import,g-bad-import-order,g-import-not-at-top\u001b[39;00m\n\u001b[1;32m     47\u001b[0m \u001b[38;5;28;01mimport\u001b[39;00m \u001b[38;5;21;01mnumpy\u001b[39;00m \u001b[38;5;28;01mas\u001b[39;00m \u001b[38;5;21;01mnp\u001b[39;00m\n\u001b[0;32m---> 49\u001b[0m \u001b[38;5;28;01mfrom\u001b[39;00m \u001b[38;5;21;01mtensorflow\u001b[39;00m\u001b[38;5;21;01m.\u001b[39;00m\u001b[38;5;21;01mpython\u001b[39;00m \u001b[38;5;28;01mimport\u001b[39;00m pywrap_tensorflow\n\u001b[1;32m     51\u001b[0m \u001b[38;5;66;03m# Protocol buffers\u001b[39;00m\n\u001b[1;32m     52\u001b[0m \u001b[38;5;28;01mfrom\u001b[39;00m \u001b[38;5;21;01mtensorflow\u001b[39;00m\u001b[38;5;21;01m.\u001b[39;00m\u001b[38;5;21;01mcore\u001b[39;00m\u001b[38;5;21;01m.\u001b[39;00m\u001b[38;5;21;01mframework\u001b[39;00m\u001b[38;5;21;01m.\u001b[39;00m\u001b[38;5;21;01mgraph_pb2\u001b[39;00m \u001b[38;5;28;01mimport\u001b[39;00m \u001b[38;5;241m*\u001b[39m\n",
      "File \u001b[0;32m~/Library/Python/3.8/lib/python/site-packages/tensorflow/python/pywrap_tensorflow.py:74\u001b[0m, in \u001b[0;36m<module>\u001b[0;34m\u001b[0m\n\u001b[1;32m     69\u001b[0m \u001b[38;5;28;01mexcept\u001b[39;00m \u001b[38;5;167;01mImportError\u001b[39;00m:\n\u001b[1;32m     70\u001b[0m   msg \u001b[38;5;241m=\u001b[39m \u001b[38;5;124m\"\"\"\u001b[39m\u001b[38;5;132;01m%s\u001b[39;00m\u001b[38;5;130;01m\\n\u001b[39;00m\u001b[38;5;130;01m\\n\u001b[39;00m\u001b[38;5;124mFailed to load the native TensorFlow runtime.\u001b[39m\u001b[38;5;130;01m\\n\u001b[39;00m\n\u001b[1;32m     71\u001b[0m \u001b[38;5;124mSee https://www.tensorflow.org/install/install_sources#common_installation_problems\u001b[39m\u001b[38;5;130;01m\\n\u001b[39;00m\n\u001b[1;32m     72\u001b[0m \u001b[38;5;124mfor some common reasons and solutions.  Include the entire stack trace\u001b[39m\n\u001b[1;32m     73\u001b[0m \u001b[38;5;124mabove this error message when asking for help.\u001b[39m\u001b[38;5;124m\"\"\"\u001b[39m \u001b[38;5;241m%\u001b[39m traceback\u001b[38;5;241m.\u001b[39mformat_exc()\n\u001b[0;32m---> 74\u001b[0m   \u001b[38;5;28;01mraise\u001b[39;00m \u001b[38;5;167;01mImportError\u001b[39;00m(msg)\n",
      "\u001b[0;31mImportError\u001b[0m: Traceback (most recent call last):\n  File \"/Users/simennaess/Library/Python/3.8/lib/python/site-packages/tensorflow/python/pywrap_tensorflow.py\", line 58, in <module>\n    from tensorflow.python.pywrap_tensorflow_internal import *\n  File \"/Users/simennaess/Library/Python/3.8/lib/python/site-packages/tensorflow/python/pywrap_tensorflow_internal.py\", line 28, in <module>\n    _pywrap_tensorflow_internal = swig_import_helper()\n  File \"/Users/simennaess/Library/Python/3.8/lib/python/site-packages/tensorflow/python/pywrap_tensorflow_internal.py\", line 24, in swig_import_helper\n    _mod = imp.load_module('_pywrap_tensorflow_internal', fp, pathname, description)\n  File \"/Library/Developer/CommandLineTools/Library/Frameworks/Python3.framework/Versions/3.8/lib/python3.8/imp.py\", line 242, in load_module\n    return load_dynamic(name, filename, file)\n  File \"/Library/Developer/CommandLineTools/Library/Frameworks/Python3.framework/Versions/3.8/lib/python3.8/imp.py\", line 342, in load_dynamic\n    return _load(spec)\nImportError: dlopen(/Users/simennaess/Library/Python/3.8/lib/python/site-packages/tensorflow/python/_pywrap_tensorflow_internal.so, 0x0006): tried: '/Users/simennaess/Library/Python/3.8/lib/python/site-packages/tensorflow/python/_pywrap_tensorflow_internal.so' (mach-o file, but is an incompatible architecture (have 'x86_64', need 'arm64e'))\n\n\nFailed to load the native TensorFlow runtime.\n\nSee https://www.tensorflow.org/install/install_sources#common_installation_problems\n\nfor some common reasons and solutions.  Include the entire stack trace\nabove this error message when asking for help."
     ]
    }
   ],
   "source": [
    "pip install fedot==0.5.2"
   ]
  },
  {
   "cell_type": "code",
   "execution_count": null,
   "id": "b2a98df0",
   "metadata": {},
   "outputs": [],
   "source": [
    "# Additional imports \n",
    "import pandas as pd \n",
    "import numpy as np\n",
    "\n",
    "# Imports for creating plots\n",
    "import matplotlib.pyplot as plt\n",
    "from pylab import rcParams\n",
    "rcParams['figure.figsize'] = 18, 7\n",
    "\n",
    "# Pipeline and nodes\n",
    "from fedot.core.pipelines.pipeline import Pipeline\n",
    "from fedot.core.pipelines.node import PrimaryNode, SecondaryNode\n",
    "\n",
    "# Data \n",
    "from fedot.core.data.data import InputData\n",
    "from fedot.core.data.data_split import train_test_data_setup\n",
    "from fedot.core.repository.dataset_types import DataTypesEnum\n",
    "\n",
    "# Tasks\n",
    "from fedot.core.repository.tasks import Task, TaskTypesEnum, TsForecastingParams\n",
    "\n",
    "import logging\n",
    "logging.raiseExceptions = False\n",
    "\n",
    "# Read the file\n",
    "\n",
    "df=pd.read_csv('/Users/simennaess/Documents/Master/Ukentlig_vareid_ys_kunde_time_lag_15_20.csv', parse_dates=['Ukedato'], sep=\";\", decimal=\",\", header=0)\n",
    "\n",
    "#Produkter hentet fra produktseleksjon (vasket og deretter hentet ut basert på at de står for 100%, 50% eller 10% \n",
    "#av maksvolumet for enkeltprodukter, samt sesongprodukter. Blant allProducts er det også 12 \n",
    "#ekstra produkter som ligger mellom mid-> low runners.)\n",
    "\n",
    "selectedTopProducts=[10133,9662,9399,9306,9400,10135,9898,9630,9897,9860]\n",
    "selectedMidProducts=[14759,9901,10019,14536,14508,9994,16444,16353,9995, 9307]\n",
    "selectedLowProducts=[14238,14288,14542,10002,10197,16408,16527, 14563, 9541] \n",
    "selectedSeasonalProducts=[10022, 9560, 10005, 9541]\n",
    "\n",
    "allSelectedProducts=[10133, 9662, 9399, 9306, 9400, 10135, 9898, 9630, 9897, 9860, 14759, \n",
    "                     9901, 10019, 14508, 9994, 16444, 16353, 9995, 9205, 14760, 15112, 14536, 16409, \n",
    "                     10022, 14540, 14251, 14490, 10017, 9560, 10005, 14238, 10002, 10197, 16408, 14288, 16527, 9541]\n",
    "\n",
    "df=df[df.Vare_Id.isin(allSelectedProducts)]\n"
   ]
  },
  {
   "cell_type": "code",
   "execution_count": null,
   "id": "84c92674",
   "metadata": {},
   "outputs": [],
   "source": [
    "df1= df.groupby(['Ukedato','Vare_Id']).agg({'Sales':'sum'}).reset_index()\n",
    "df2=df1.loc[df1['Vare_Id']==10133]\n",
    "        "
   ]
  },
  {
   "cell_type": "code",
   "execution_count": null,
   "id": "80b042b7",
   "metadata": {},
   "outputs": [],
   "source": [
    "# Let's prepare a function for visualizing forecasts\n",
    "def plot_results(actual_time_series, predicted_values, len_train_data, y_name = 'Parameter'):\n",
    "    \"\"\"\n",
    "    Function for drawing plot with predictions\n",
    "    \n",
    "    :param actual_time_series: the entire array with one-dimensional data\n",
    "    :param predicted_values: array with predicted values\n",
    "    :param len_train_data: number of elements in the training sample\n",
    "    :param y_name: name of the y axis\n",
    "    \"\"\"\n",
    "    \n",
    "    plt.plot(np.arange(0, len(actual_time_series)), \n",
    "             actual_time_series, label = 'Actual values', c = 'blue')\n",
    "    plt.plot(np.arange(len_train_data, len_train_data + len(predicted_values)), \n",
    "             predicted_values, label = 'Predicted', c = 'green')\n",
    "    # Plot black line which divide our array into train and test\n",
    "    plt.plot([len_train_data, len_train_data],\n",
    "             [min(actual_time_series), max(actual_time_series)], c = 'orange', linewidth = 1)\n",
    "    plt.ylabel(y_name, fontsize = 15)\n",
    "    plt.xlabel('Time index', fontsize = 15)\n",
    "    plt.legend(fontsize = 15, loc='upper left')\n",
    "    plt.grid()\n",
    "    plt.show()"
   ]
  },
  {
   "cell_type": "code",
   "execution_count": null,
   "id": "69b13032",
   "metadata": {},
   "outputs": [],
   "source": [
    "def multistep_oos_forecast_fedot(df):   \n",
    "    # Specify forecast length\n",
    "    horizon = 12\n",
    "\n",
    "    # Got univariate time series as numpy array\n",
    "    time_series = np.array(df['Sales'])\n",
    "\n",
    "    # Wrapp data into InputData\n",
    "    task = Task(TaskTypesEnum.ts_forecasting,\n",
    "                TsForecastingParams(forecast_length=horizon))\n",
    "    input_data = InputData(idx=np.arange(0, len(time_series)),\n",
    "                           features=time_series,\n",
    "                           target=time_series,\n",
    "                           task=task,\n",
    "                           data_type=DataTypesEnum.ts)\n",
    "\n",
    "    # Split data into train and test\n",
    "    train_input, predict_input = train_test_data_setup(input_data)\n",
    "    pipeline_init_run(train_input, predict_input, horizon)"
   ]
  },
  {
   "cell_type": "code",
   "execution_count": null,
   "id": "7938c086",
   "metadata": {},
   "outputs": [],
   "source": [
    "def get_pipeline():\n",
    "    node_lagged_1 = PrimaryNode('lagged')\n",
    "    node_lagged_1.custom_params = {'window_size': 50}\n",
    "    node_lagged_2 = PrimaryNode('lagged')\n",
    "    node_lagged_2.custom_params = {'window_size': 10}\n",
    "\n",
    "    node_first = SecondaryNode('ridge', nodes_from=[node_lagged_1])\n",
    "    node_second = SecondaryNode('dtreg', nodes_from=[node_lagged_2])\n",
    "    node_final = SecondaryNode('ridge', nodes_from=[node_first, node_second])\n",
    "    pipeline = Pipeline(node_final)\n",
    "\n",
    "    return pipeline\n",
    "\n",
    "pipeline = get_pipeline()"
   ]
  },
  {
   "cell_type": "code",
   "execution_count": null,
   "id": "a9345bc7",
   "metadata": {},
   "outputs": [],
   "source": [
    "def pipeline_init_run(train_input, predict_input):\n",
    "    # Fit pipeline\n",
    "    pipeline.fit(train_input)\n",
    "\n",
    "    # Make forecast\n",
    "    output = pipeline.predict(predict_input)\n",
    "    forecast = np.ravel(np.array(output.predict))\n",
    "\n",
    "    # Plot the graph\n",
    "    plot_results(actual_time_series = time_series,\n",
    "                 predicted_values = forecast, \n",
    "                 len_train_data = len(time_series)-forecast_length)"
   ]
  }
 ],
 "metadata": {
  "kernelspec": {
   "display_name": "Python 3 (ipykernel)",
   "language": "python",
   "name": "python3"
  },
  "language_info": {
   "codemirror_mode": {
    "name": "ipython",
    "version": 3
   },
   "file_extension": ".py",
   "mimetype": "text/x-python",
   "name": "python",
   "nbconvert_exporter": "python",
   "pygments_lexer": "ipython3",
   "version": "3.8.9"
  }
 },
 "nbformat": 4,
 "nbformat_minor": 5
}
