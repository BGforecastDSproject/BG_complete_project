{
 "cells": [
  {
   "cell_type": "code",
   "execution_count": 1,
   "id": "dcd27757",
   "metadata": {},
   "outputs": [
    {
     "name": "stderr",
     "output_type": "stream",
     "text": [
      "/Users/simennaess/Library/Python/3.8/lib/python/site-packages/statsmodels/compat/pandas.py:65: FutureWarning: pandas.Int64Index is deprecated and will be removed from pandas in a future version. Use pandas.Index with the appropriate dtype instead.\n",
      "  from pandas import Int64Index as NumericIndex\n"
     ]
    }
   ],
   "source": [
    "import pandas as pd\n",
    "import numpy as np\n",
    "import matplotlib.pyplot as plt\n",
    "from statsmodels.tsa.holtwinters import ExponentialSmoothing\n",
    "from sklearn.metrics import mean_squared_error\n",
    "from math import sqrt\n",
    "\n",
    "import warnings\n",
    "warnings.filterwarnings(\"ignore\")"
   ]
  },
  {
   "cell_type": "code",
   "execution_count": 191,
   "id": "407e4379",
   "metadata": {},
   "outputs": [],
   "source": [
    "\n",
    "df=pd.read_csv('/Users/simennaess/Documents/Master/Ukentlig_vareid_ys_kunde_time_lag_15_20.csv', parse_dates=['Ukedato'], sep=\";\", decimal=\",\", header=0)\n",
    "\n"
   ]
  },
  {
   "cell_type": "code",
   "execution_count": 236,
   "id": "b34e2cda",
   "metadata": {},
   "outputs": [
    {
     "data": {
      "image/png": "[encoded data removed]",
      "text/plain": [
       "<Figure size 432x288 with 1 Axes>"
      ]
     },
     "metadata": {
      "needs_background": "light"
     },
     "output_type": "display_data"
    }
   ],
   "source": [
    "\n",
    "def df_split_into_top_mid_low_selling_products(df):\n",
    "    df_topsalg=df.groupby(['Vare_Id']).agg({'Salg_sum':'sum'}).rename(columns={'Salg_sum':'Sales'})\n",
    "    df_topsalg.sort_values(by='Sales', ascending=False,inplace=True)\n",
    "    df_topsalg.reset_index(inplace=True)\n",
    "    df_topsalg['Products']=df_topsalg.index\n",
    "    plt.bar(df_topsalg.index, df_topsalg['Sales'])\n",
    "    plt.ticklabel_format(useOffset=False)\n",
    "    plt.xlabel('Items') \n",
    "    plt.ylabel('Products sold') \n",
    "    plt.title('Number of products sold per item ID, sorted')\n",
    "    mid_number_of_rows=round(len(df_topsalg['Vare_Id'])/2)\n",
    "    top_products=df_topsalg['Vare_Id'].head(10).to_list()\n",
    "    mid_products=df_topsalg['Vare_Id'].iloc[65:75].to_list() # products with approx 50% sales volume of best sellers\n",
    "    low_products=df_topsalg['Vare_Id'].iloc[140:150].to_list()  # products with approx 10% sales volume of best sellers\n",
    "    return [top_products, mid_products, low_products]\n",
    "\n",
    "#14418 should not be included as it lacks datapoints which HW does not accept(freq-term violation)\n",
    "top10Products, mid10Products, low10Products = df_split_into_top_mid_low_selling_products(df)\n",
    "\n"
   ]
  },
  {
   "cell_type": "code",
   "execution_count": 315,
   "id": "a1f03f96",
   "metadata": {},
   "outputs": [],
   "source": [
    "#Produkter hentet fra produktseleksjon (vasket og deretter hentet ut basert på at de står for 100%, 50% eller 10% \n",
    "#av maksvolumet for enkeltprodukter, samt sesongprodukter. Blant allProducts er det også 12 \n",
    "#ekstra produkter som ligger mellom mid-> low runners.)\n",
    "\n",
    "selectedTopProducts=[10133,9662,9399,9306,9400,10135,9898,9630,9897,9860]\n",
    "selectedMidProducts=[14759,9901,10019,14536,14508,9994,16444,16353,9995, 9307]\n",
    "selectedLowProducts=[14238,14288,14542,10002,10197,16408,16527, 14563, 9541] \n",
    "selectedSeasonalProducts=[10022, 9560, 10005, 9541]\n",
    "\n",
    "allSelectedProducts=[10133, 9662, 9399, 9306, 9400, 10135, 9898, 9630, 9897, 9860, 14759, \n",
    "                     9901, 10019, 14508, 9994, 16444, 16353, 9995, 9205, 14760, 15112, 14536, 16409, \n",
    "                     10022, 14540, 14251, 14490, 10017, 9560, 10005, 14238, 10002, 10197, 16408, 14288, 16527, 9541]\n"
   ]
  },
  {
   "cell_type": "code",
   "execution_count": 226,
   "id": "cf22498b",
   "metadata": {},
   "outputs": [],
   "source": [
    " def exp_smoothing_configs():\n",
    "    models = list()\n",
    "    # define config lists\n",
    "    t_params = ['add', 'mul',None]\n",
    "    d_params = [True, False]\n",
    "    s_params = ['add', 'mul', None]\n",
    "    r_params = [True, False]\n",
    "    # create config instances\n",
    "    for t in t_params:\n",
    "        for d in d_params:\n",
    "            for s in s_params:\n",
    "                    for r in r_params:\n",
    "                        cfg = [t,d,s,r]\n",
    "                        models.append(cfg)\n",
    "    return models\n",
    "\n",
    "cfg_list = exp_smoothing_configs()"
   ]
  },
  {
   "cell_type": "code",
   "execution_count": 319,
   "id": "16aaa386",
   "metadata": {},
   "outputs": [],
   "source": [
    "def model_eval(y, predictions):\n",
    "\n",
    "    # Import library for metrics\n",
    "    from sklearn.metrics import mean_squared_error, r2_score, mean_absolute_error\n",
    "\n",
    "    # Mean absolute error (MAE)\n",
    "    mae = mean_absolute_error(y, predictions)\n",
    "\n",
    "    # Mean squared error (MSE)\n",
    "    mse = mean_squared_error(y, predictions)\n",
    "\n",
    "    # SMAPE is an alternative for MAPE when there are zeros in the testing data. It\n",
    "    # scales the absolute percentage by the sum of forecast and observed values\n",
    "    SMAPE = np.mean(np.abs((y - predictions) / ((y + predictions)/2))) * 100\n",
    "\n",
    "    # Calculate the Root Mean Squared Error\n",
    "    rmse = np.sqrt(mean_squared_error(y, predictions))\n",
    "\n",
    "    # Calculate the Mean Absolute Percentage Error\n",
    "    # y, predictions = check_array(y, predictions)\n",
    "    MAPE = np.mean(np.abs((y - predictions) / y)) * 100\n",
    "\n",
    "    # mean_forecast_error\n",
    "    mfe = np.mean(y - predictions)\n",
    "\n",
    "    # NMSE normalizes the obtained MSE after dividing it by the test variance. It\n",
    "    # is a balanced error measure and is very effective in judging forecast\n",
    "    # accuracy of a model.\n",
    "\n",
    "    # normalised_mean_squared_error\n",
    "    NMSE = mse / (np.sum((y - np.mean(y)) ** 2)/(len(y)-1))\n",
    "\n",
    "    # theil_u_statistic\n",
    "    # It is a normalized measure of total forecast error.\n",
    "    error = y - predictions\n",
    "    mfe = np.sqrt(np.mean(predictions**2))\n",
    "    mse = np.sqrt(np.mean(y**2))\n",
    "    rmse = np.sqrt(np.mean(error**2))\n",
    "    theil_u_statistic =  rmse / (mfe*mse)\n",
    "\n",
    "    # Print metrics\n",
    "    print('Mean Absolute Error:', round(mae, 3))\n",
    "    print('Mean Squared Error:', round(mse, 3))\n",
    "    print('Root Mean Squared Error:', round(rmse, 3))\n",
    "    print('Mean absolute percentage error:', round(MAPE, 3))\n",
    "    print('Scaled Mean absolute percentage error:', round(SMAPE, 3))\n",
    "    print('Mean forecast error:', round(mfe, 3))\n",
    "    print('Normalised mean squared error:', round(NMSE, 3))\n",
    "    print('Theil_u_statistic:', round(theil_u_statistic, 3))\n",
    "    \n",
    "    return MAPE"
   ]
  },
  {
   "cell_type": "code",
   "execution_count": 317,
   "id": "bf657e8d",
   "metadata": {
    "scrolled": true
   },
   "outputs": [],
   "source": [
    "def HW_pred_with_parameter_tuning(df,product,horizon):\n",
    "    df_prod = df.copy()\n",
    "    #df_prod.asfreq('W-MON')\n",
    "    #df_prod.index.freq ='W-MON'\n",
    "    ind = df_prod.index[-horizon:] \n",
    "    train, test = df_prod.iloc[:-horizon], df_prod.iloc[-horizon:] #splits dataset according to chosen horrizon (weeks)\n",
    "    \n",
    "    #Tune parameters\n",
    "    best_RMSE = np.inf\n",
    "    best_config = []\n",
    "    t1 = d1 = s1 = r1 = ''\n",
    "    for j in range(len(cfg_list)):\n",
    "        try: \n",
    "            cg = cfg_list[j]\n",
    "            t,d,s,r = cg\n",
    "            if t==None:             #don't dampen trend if it trend is not present\n",
    "                model=ExponentialSmoothing(train, trend=t, seasonal=s, seasonal_periods=52).fit(optimized=True, remove_bias=r)\n",
    "            else:                   #with and without the option of dampening\n",
    "                model=ExponentialSmoothing(train, trend=t, damped_trend=d, seasonal=s, seasonal_periods=52).fit(optimized=True, remove_bias=r)\n",
    "            pred1=model.predict(start=test.index[0], end=test.index[-1])\n",
    "            rmse=np.sqrt(mean_squared_error(test,pred1))\n",
    "            if rmse < best_RMSE:\n",
    "                best_RMSE = rmse\n",
    "                best_config = cfg_list[j]\n",
    "        except ValueError as ve:\n",
    "            print(ve)\n",
    "    \n",
    "    #Build model and run prediction\n",
    "    t1,d1,s1,r1 = best_config\n",
    "    \n",
    "    if t1 == None:\n",
    "        hw_model1 = ExponentialSmoothing(train, trend=t1, seasonal=s1, seasonal_periods=52).fit(optimized=True, remove_bias=r1)\n",
    "    else:\n",
    "        hw_model1 = ExponentialSmoothing(train, trend=t1, seasonal=s1, seasonal_periods=52, damped=d1).fit(optimized=True, remove_bias=r1)\n",
    "    \n",
    "    pred_HW = hw_model1.predict(start=test.index[0], end = test.index[-1])\n",
    "    \n",
    "    #Concat predictions with real data. Currently not returned, haven't found use for is\n",
    "    pred_HW = pd.Series(data=pred_HW, index=ind)\n",
    "    df_pass_pred = pd.concat([df_prod, pred_HW.rename('pred_HW')], axis=1)\n",
    "    \n",
    "    #Statistics of each model performance\n",
    "    print('-*-'*20)\n",
    "    print(\"Vare_Id: \",product)\n",
    "    mape=model_eval(test, pred_HW)\n",
    "    print('-*-'*20)\n",
    "    \n",
    "    #Visual inspection\n",
    "    plt.plot(train.index, train, label='Train')\n",
    "    plt.plot(test.index, test, label='Test')\n",
    "    plt.plot(pred_HW.index, pred_HW, label='Holt-Winters')\n",
    "    plt.legend(loc='best');\n",
    "    plt.show()\n",
    "    \n",
    "    return [best_RMSE,mape]\n",
    "    "
   ]
  },
  {
   "cell_type": "code",
   "execution_count": 294,
   "id": "5a15e764",
   "metadata": {},
   "outputs": [],
   "source": [
    "\n",
    "def HW_iterator_for_products(df, products, horizon):\n",
    "    total_rmse=0\n",
    "    total_mape=0\n",
    "    for product in products: \n",
    "        print(\"Current product: \", product)\n",
    "        df_prod_select=df.loc[df['Vare_Id']==product]\n",
    "        df_prod=df_prod_select.groupby(['Ukedato'])['Salg_sum'].sum().reset_index()\n",
    "        df_prod=df_prod[['Ukedato','Salg_sum']]\n",
    "        df_prod.index = pd.DatetimeIndex(df_prod[\"Ukedato\"])\n",
    "        df_prod=df_prod['Salg_sum'].resample('W-MON').asfreq().fillna(0)\n",
    "        #df_prod.set_index('Ukedato',inplace=True)\n",
    "        errors=HW_pred_with_parameter_tuning(df_prod,product, horizon)\n",
    "        total_rmse+=errors[0]\n",
    "        total_mape+=errors[1]\n",
    "        \n",
    "    print(\"Total RMSE of top 10 selling products: \", total_rmse, \", total mape: \",total_mape)\n",
    "    \n",
    "        \n",
    "        "
   ]
  },
  {
   "cell_type": "code",
   "execution_count": 302,
   "id": "c9faf4ac",
   "metadata": {
    "scrolled": false
   },
   "outputs": [],
   "source": [
    "## Run all the methods\n",
    "\n",
    "productMixes=[selectedTopProducts,selectedMidProducts,selectedLowProducts,selectedSeasonalProducts,allSelectedProducts]\n",
    "\n",
    "\n",
    "product1Mixes=[selectedLowProducts,selectedSeasonalProducts,allSelectedProducts]\n",
    "\n",
    "pM=[selectedSeasonalProducts]\n",
    "\n",
    "horizons=[3,12]\n",
    "\n",
    "def main_method(prodMix,horizons):\n",
    "    for prod in prodMix:\n",
    "        print(\"selected products: \",prod)\n",
    "        for h in horizons:\n",
    "            print(\"selected horizon: \",h)\n",
    "            HW_iterator_for_products(df,prod,h)\n",
    "\n",
    "\n",
    "\n"
   ]
  },
  {
   "cell_type": "code",
   "execution_count": 320,
   "id": "4a9783ba",
   "metadata": {},
   "outputs": [
    {
     "name": "stdout",
     "output_type": "stream",
     "text": [
      "selected products:  [14536]\n",
      "selected horizon:  12\n",
      "Current product:  14536\n",
      "-*--*--*--*--*--*--*--*--*--*--*--*--*--*--*--*--*--*--*--*-\n",
      "Vare_Id:  14536\n",
      "Mean Absolute Error: 146.265\n",
      "Mean Squared Error: 1411.725\n",
      "Root Mean Squared Error: 188.8\n",
      "Mean absolute percentage error: 9.765\n",
      "Scaled Mean absolute percentage error: 10.519\n",
      "Mean forecast error: 1256.798\n",
      "Normalised mean squared error: 0.702\n",
      "Theil_u_statistic: 0.0\n",
      "-*--*--*--*--*--*--*--*--*--*--*--*--*--*--*--*--*--*--*--*-\n"
     ]
    },
    {
     "data": {
      "image/png": "[encoded data removed]",
      "text/plain": [
       "<Figure size 432x288 with 1 Axes>"
      ]
     },
     "metadata": {
      "needs_background": "light"
     },
     "output_type": "display_data"
    },
    {
     "name": "stdout",
     "output_type": "stream",
     "text": [
      "Total RMSE of top 10 selling products:  188.80011917951578 , total mape:  9.764815303800505\n"
     ]
    }
   ],
   "source": [
    "main_method([[14536]],[12])\n"
   ]
  },
  {
   "cell_type": "code",
   "execution_count": 321,
   "id": "721c38c7",
   "metadata": {},
   "outputs": [
    {
     "name": "stdout",
     "output_type": "stream",
     "text": [
      "selected products:  [9307]\n",
      "selected horizon:  12\n",
      "Current product:  9307\n",
      "-*--*--*--*--*--*--*--*--*--*--*--*--*--*--*--*--*--*--*--*-\n",
      "Vare_Id:  9307\n",
      "Mean Absolute Error: 125.079\n",
      "Mean Squared Error: 1601.176\n",
      "Root Mean Squared Error: 153.027\n",
      "Mean absolute percentage error: 7.629\n",
      "Scaled Mean absolute percentage error: 7.696\n",
      "Mean forecast error: 1593.82\n",
      "Normalised mean squared error: 0.769\n",
      "Theil_u_statistic: 0.0\n",
      "-*--*--*--*--*--*--*--*--*--*--*--*--*--*--*--*--*--*--*--*-\n"
     ]
    },
    {
     "data": {
      "image/png": "[encoded data removed]",
      "text/plain": [
       "<Figure size 432x288 with 1 Axes>"
      ]
     },
     "metadata": {
      "needs_background": "light"
     },
     "output_type": "display_data"
    },
    {
     "name": "stdout",
     "output_type": "stream",
     "text": [
      "Total RMSE of top 10 selling products:  153.0272193200514 , total mape:  7.628602280308982\n"
     ]
    }
   ],
   "source": [
    "main_method([[9307]],[12])"
   ]
  },
  {
   "cell_type": "code",
   "execution_count": null,
   "id": "03626a0a",
   "metadata": {},
   "outputs": [],
   "source": []
  }
 ],
 "metadata": {
  "kernelspec": {
   "display_name": "Python 3 (ipykernel)",
   "language": "python",
   "name": "python3"
  },
  "language_info": {
   "codemirror_mode": {
    "name": "ipython",
    "version": 3
   },
   "file_extension": ".py",
   "mimetype": "text/x-python",
   "name": "python",
   "nbconvert_exporter": "python",
   "pygments_lexer": "ipython3",
   "version": "3.8.9"
  }
 },
 "nbformat": 4,
 "nbformat_minor": 5
}
