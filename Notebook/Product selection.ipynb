{
 "cells": [
  {
   "cell_type": "code",
   "execution_count": 1,
   "id": "deae7b57",
   "metadata": {},
   "outputs": [
    {
     "name": "stderr",
     "output_type": "stream",
     "text": [
      "/Users/simennaess/Library/Python/3.8/lib/python/site-packages/statsmodels/compat/pandas.py:65: FutureWarning: pandas.Int64Index is deprecated and will be removed from pandas in a future version. Use pandas.Index with the appropriate dtype instead.\n",
      "  from pandas import Int64Index as NumericIndex\n"
     ]
    }
   ],
   "source": [
    "import pandas as pd\n",
    "import numpy as np\n",
    "import matplotlib.pyplot as plt\n",
    "from statsmodels.tsa.holtwinters import ExponentialSmoothing\n",
    "from sklearn.metrics import mean_squared_error\n",
    "from math import sqrt\n",
    "\n",
    "import warnings\n",
    "warnings.filterwarnings(\"ignore\")"
   ]
  },
  {
   "cell_type": "code",
   "execution_count": 3,
   "id": "192f20aa",
   "metadata": {},
   "outputs": [],
   "source": [
    "\n",
    "df=pd.read_csv('/Users/simennaess/Documents/Master/Ukentlig_vareid_ys_kunde_time_lag_15_20.csv', parse_dates=['Ukedato'], sep=\";\", decimal=\",\", header=0)\n",
    "\n",
    "df_vare=pd.read_csv('/Users/simennaess/Documents/Master/DimVare.csv', sep=\";\", decimal=\",\", header=0)\n"
   ]
  },
  {
   "cell_type": "code",
   "execution_count": 4,
   "id": "520168c2",
   "metadata": {},
   "outputs": [],
   "source": [
    "produkter_med_salg_i_2020=df[(df.Ukedato > \"2020-01-01\") & (df.Ukedato < \"2020-09-28\")]\n",
    "produkter_med_salg_i_2020_gruppert=produkter_med_salg_i_2020.groupby(['Vare_Id']).agg({'Salg_sum':'sum'}).rename(columns={'Salg_sum':'Sales'})\n",
    "produkter_med_salg_i_2020_gruppert.sort_values(by='Sales', ascending=False,inplace=True)\n",
    "produkter_med_salg_i_2020_gruppert.reset_index(inplace=True)"
   ]
  },
  {
   "cell_type": "code",
   "execution_count": 5,
   "id": "0e0d994e",
   "metadata": {},
   "outputs": [],
   "source": [
    "#Vask ut produkter som ikke har salg i 2020 mhp prediksjon i 2020\n",
    "\n",
    "aktuelle_produkter=produkter_med_salg_i_2020_gruppert['Vare_Id'].to_list()\n",
    "\n",
    "df_nylig_solgt=df[df.Vare_Id.isin(aktuelle_produkter)]\n",
    "\n",
    "df=df_nylig_solgt.copy()"
   ]
  },
  {
   "cell_type": "code",
   "execution_count": 72,
   "id": "33751dab",
   "metadata": {},
   "outputs": [],
   "source": [
    "def target_products_plot(products):\n",
    "    for p in products:\n",
    "        prod_df=df.loc[df['Vare_Id']==p] #14418 produkt som utgår\n",
    "        prod_df_grouped=prod_df.groupby(['Ukedato'])['Salg_sum'].sum().reset_index()\n",
    "        prod_df_grouped=prod_df_grouped[['Ukedato','Salg_sum']]\n",
    "        prod_df_grouped.set_index('Ukedato',inplace=True)\n",
    "        print(prod_df_grouped['Salg_sum'].sum())\n",
    "        plt.title(p)\n",
    "        plt.xticks(rotation=20, ha='right')\n",
    "        plt.plot(prod_df_grouped.index, prod_df_grouped['Salg_sum'], label=p)\n",
    "        plt.show()\n",
    "        enkeltvare=df_vare.loc[df_vare['Vare_Id']==p] # Vil vite VarenrNavn\n",
    "        print(p)\n",
    "        print(enkeltvare['VarenrNavn'])"
   ]
  },
  {
   "cell_type": "code",
   "execution_count": 75,
   "id": "96b323a2",
   "metadata": {},
   "outputs": [],
   "source": [
    "#Produkter hentet fra produktseleksjon\n",
    "\n",
    "selectedTopProducts=[10133,9662,9399,9306,9400,10135,9898,9630,9897,9860]\n",
    "selectedMidProducts=[14759,9901,10019,14508,14536,9307,9994,16444,16353,9995]\n",
    "selectedLowProducts=[14238,14288,14542,10002,14254,9541,10197,16408,14563,16527]\n",
    "selectedSeasonalProducts=[10022, 9560, 10005, 9541]\n",
    "\n",
    "allSelectedProducts=[10133, 9662, 9399, 9306, 9400, 10135, 9898, 9630, 9897, 9860, 14759, 9901, 10019, 14508, 9307, 9994, 16444, 16353, 9995, 9205, 14760, 15112, 14536, 16409, 10022, 14540, 14251, 14490, 10017, 9560, 10005, 14238, 10002, 14254, 9541, 10197, 16408, 14563, 14288, 14542, 16527]\n"
   ]
  },
  {
   "cell_type": "code",
   "execution_count": 78,
   "id": "55ab904f",
   "metadata": {
    "scrolled": true
   },
   "outputs": [
    {
     "name": "stdout",
     "output_type": "stream",
     "text": [
      "211884.1\n"
     ]
    },
    {
     "data": {
      "image/png": "[encoded data removed]",
      "text/plain": [
       "<Figure size 432x288 with 1 Axes>"
      ]
     },
     "metadata": {
      "needs_background": "light"
     },
     "output_type": "display_data"
    },
    {
     "name": "stdout",
     "output_type": "stream",
     "text": [
      "10022\n",
      "6120    112634 xx DLN Brente Mandler 190g 24stk\n",
      "Name: VarenrNavn, dtype: object\n"
     ]
    }
   ],
   "source": [
    "target_products_plot([10022])\n",
    "\n"
   ]
  },
  {
   "cell_type": "code",
   "execution_count": 64,
   "id": "ed660ef6",
   "metadata": {},
   "outputs": [
    {
     "data": {
      "text/html": [
       "<div>\n",
       "<style scoped>\n",
       "    .dataframe tbody tr th:only-of-type {\n",
       "        vertical-align: middle;\n",
       "    }\n",
       "\n",
       "    .dataframe tbody tr th {\n",
       "        vertical-align: top;\n",
       "    }\n",
       "\n",
       "    .dataframe thead th {\n",
       "        text-align: right;\n",
       "    }\n",
       "</style>\n",
       "<table border=\"1\" class=\"dataframe\">\n",
       "  <thead>\n",
       "    <tr style=\"text-align: right;\">\n",
       "      <th></th>\n",
       "      <th>Vare_Id</th>\n",
       "      <th>Gammeltvarenr</th>\n",
       "      <th>Eksternvaregruppekode</th>\n",
       "      <th>Eksternvaregruppe</th>\n",
       "      <th>DINformat_Produksjon</th>\n",
       "      <th>Vektenhet dpk</th>\n",
       "      <th>Slettemerket</th>\n",
       "      <th>MaterialgruppeEmballasjekode</th>\n",
       "      <th>MaterialgruppeEmballasje</th>\n",
       "      <th>Varegruppenr</th>\n",
       "      <th>...</th>\n",
       "      <th>MerkeGrpLeder</th>\n",
       "      <th>MerkeGrp2YS</th>\n",
       "      <th>MerkeGrp1YS</th>\n",
       "      <th>SistSolgtDato</th>\n",
       "      <th>SalgsenhType</th>\n",
       "      <th>EANnr fpk indikator</th>\n",
       "      <th>VarenrNavn</th>\n",
       "      <th>Varegruppeinndeling</th>\n",
       "      <th>And_Varegruppe</th>\n",
       "      <th>UnderKategori</th>\n",
       "    </tr>\n",
       "  </thead>\n",
       "  <tbody>\n",
       "    <tr>\n",
       "      <th>6094</th>\n",
       "      <td>9994</td>\n",
       "      <td>112149</td>\n",
       "      <td>SOS-999-999</td>\n",
       "      <td>Ikke relev. for SOS</td>\n",
       "      <td>NaN</td>\n",
       "      <td>KG</td>\n",
       "      <td>NaN</td>\n",
       "      <td>PALL</td>\n",
       "      <td>Paller</td>\n",
       "      <td>ACN-NATNØ</td>\n",
       "      <td>...</td>\n",
       "      <td>DLN</td>\n",
       "      <td>DLN NAT.NØTTER</td>\n",
       "      <td>BG</td>\n",
       "      <td>03/01/2021 00:00:00</td>\n",
       "      <td>D-pak</td>\n",
       "      <td>NaN</td>\n",
       "      <td>112600 DLN Pistasj 60g 10stk</td>\n",
       "      <td>Følges opp av selger</td>\n",
       "      <td>DLN Produkter i nøttestativ</td>\n",
       "      <td>NØTTER</td>\n",
       "    </tr>\n",
       "  </tbody>\n",
       "</table>\n",
       "<p>1 rows × 92 columns</p>\n",
       "</div>"
      ],
      "text/plain": [
       "      Vare_Id Gammeltvarenr Eksternvaregruppekode    Eksternvaregruppe  \\\n",
       "6094     9994        112149           SOS-999-999  Ikke relev. for SOS   \n",
       "\n",
       "     DINformat_Produksjon Vektenhet dpk Slettemerket  \\\n",
       "6094                  NaN            KG          NaN   \n",
       "\n",
       "     MaterialgruppeEmballasjekode MaterialgruppeEmballasje Varegruppenr  ...  \\\n",
       "6094                         PALL                   Paller    ACN-NATNØ  ...   \n",
       "\n",
       "     MerkeGrpLeder     MerkeGrp2YS MerkeGrp1YS        SistSolgtDato  \\\n",
       "6094           DLN  DLN NAT.NØTTER          BG  03/01/2021 00:00:00   \n",
       "\n",
       "      SalgsenhType EANnr fpk indikator                    VarenrNavn  \\\n",
       "6094         D-pak                 NaN  112600 DLN Pistasj 60g 10stk   \n",
       "\n",
       "       Varegruppeinndeling               And_Varegruppe UnderKategori  \n",
       "6094  Følges opp av selger  DLN Produkter i nøttestativ        NØTTER  \n",
       "\n",
       "[1 rows x 92 columns]"
      ]
     },
     "execution_count": 64,
     "metadata": {},
     "output_type": "execute_result"
    }
   ],
   "source": [
    "enkeltvare=df_vare.loc[df_vare['Vare_Id']==9994] # Vil vite VarenrNavn\n",
    "enkeltvare.head()"
   ]
  },
  {
   "cell_type": "code",
   "execution_count": 67,
   "id": "fec0774b",
   "metadata": {},
   "outputs": [
    {
     "data": {
      "image/png": "[encoded data removed]",
      "text/plain": [
       "<Figure size 432x288 with 1 Axes>"
      ]
     },
     "metadata": {
      "needs_background": "light"
     },
     "output_type": "display_data"
    }
   ],
   "source": [
    "\n",
    "def df_split_into_top_mid_low_selling_products(df):\n",
    "    df_topsalg=df.groupby(['Vare_Id']).agg({'Salg_sum':'sum'}).rename(columns={'Salg_sum':'Sales'})\n",
    "    df_topsalg.sort_values(by='Sales', ascending=False,inplace=True)\n",
    "    df_topsalg.reset_index(inplace=True)\n",
    "    df_topsalg['Products']=df_topsalg.index\n",
    "    plt.bar(df_topsalg.index, df_topsalg['Sales'])\n",
    "    plt.ticklabel_format(useOffset=False)\n",
    "    plt.xlabel('Items') \n",
    "    plt.ylabel('Products sold') \n",
    "    plt.title('Number of products sold per item ID, sorted')\n",
    "    mid_number_of_rows=round(len(df_topsalg['Vare_Id'])/2)\n",
    "    top_products=df_topsalg['Vare_Id'].head(180).to_list()\n",
    "    mid_products=df_topsalg['Vare_Id'].iloc[65:75].to_list() # products with approx 50% sales volume of best sellers\n",
    "    low_products=df_topsalg['Vare_Id'].iloc[140:150].to_list()  # products with approx 10% sales volume of best sellers\n",
    "    return [top_products, mid_products, low_products]\n",
    "\n",
    "#14418 should not be included as it lacks datapoints which HW does not accept(freq-term violation)\n",
    "top10Products, mid10Products, low10Products = df_split_into_top_mid_low_selling_products(df)\n",
    "\n",
    "\n"
   ]
  },
  {
   "cell_type": "code",
   "execution_count": null,
   "id": "2c58e699",
   "metadata": {},
   "outputs": [],
   "source": []
  }
 ],
 "metadata": {
  "kernelspec": {
   "display_name": "Python 3 (ipykernel)",
   "language": "python",
   "name": "python3"
  },
  "language_info": {
   "codemirror_mode": {
    "name": "ipython",
    "version": 3
   },
   "file_extension": ".py",
   "mimetype": "text/x-python",
   "name": "python",
   "nbconvert_exporter": "python",
   "pygments_lexer": "ipython3",
   "version": "3.9.12"
  }
 },
 "nbformat": 4,
 "nbformat_minor": 5
}
