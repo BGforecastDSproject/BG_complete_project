{
 "cells": [
  {
   "cell_type": "code",
   "execution_count": 19,
   "id": "00a1fb7b",
   "metadata": {},
   "outputs": [
    {
     "ename": "SyntaxError",
     "evalue": "invalid syntax (pywrap_tensorflow_internal.py, line 114)",
     "output_type": "error",
     "traceback": [
      "Traceback \u001b[0;36m(most recent call last)\u001b[0m:\n",
      "  File \u001b[1;32m~/Library/Python/3.8/lib/python/site-packages/IPython/core/interactiveshell.py:3251\u001b[0m in \u001b[1;35mrun_code\u001b[0m\n    exec(code_obj, self.user_global_ns, self.user_ns)\n",
      "  Input \u001b[1;32mIn [19]\u001b[0m in \u001b[1;35m<module>\u001b[0m\n    import keras\n",
      "  File \u001b[1;32m~/Library/Python/3.8/lib/python/site-packages/keras/__init__.py:21\u001b[0m in \u001b[1;35m<module>\u001b[0m\n    from tensorflow.python import tf2\n",
      "  File \u001b[1;32m~/Library/Python/3.8/lib/python/site-packages/tensorflow/__init__.py:24\u001b[0m in \u001b[1;35m<module>\u001b[0m\n    from tensorflow.python import pywrap_tensorflow  # pylint: disable=unused-import\n",
      "  File \u001b[1;32m~/Library/Python/3.8/lib/python/site-packages/tensorflow/python/__init__.py:49\u001b[0m in \u001b[1;35m<module>\u001b[0m\n    from tensorflow.python import pywrap_tensorflow\n",
      "\u001b[0;36m  File \u001b[0;32m~/Library/Python/3.8/lib/python/site-packages/tensorflow/python/pywrap_tensorflow.py:58\u001b[0;36m in \u001b[0;35m<module>\u001b[0;36m\u001b[0m\n\u001b[0;31m    from tensorflow.python.pywrap_tensorflow_internal import *\u001b[0m\n",
      "\u001b[0;36m  File \u001b[0;32m~/Library/Python/3.8/lib/python/site-packages/tensorflow/python/pywrap_tensorflow_internal.py:114\u001b[0;36m\u001b[0m\n\u001b[0;31m    def TFE_ContextOptionsSetAsync(arg1, async):\u001b[0m\n\u001b[0m                                         ^\u001b[0m\n\u001b[0;31mSyntaxError\u001b[0m\u001b[0;31m:\u001b[0m invalid syntax\n"
     ]
    }
   ],
   "source": [
    "import pandas as pd\n",
    "import numpy as np\n",
    "import matplotlib.pyplot as plt\n",
    "from statsmodels.tsa.holtwinters import ExponentialSmoothing\n",
    "from sklearn.metrics import mean_squared_error\n",
    "from math import sqrt\n",
    "\n",
    "import warnings\n",
    "warnings.filterwarnings(\"ignore\")\n",
    "\n",
    "from sklearn.metrics import mean_squared_error, mean_absolute_percentage_error\n",
    "\n",
    "def rmse_mape(y,predictions):\n",
    "    mape = mean_absolute_percentage_error(y, predictions)\n",
    "    rmse = np.sqrt(mean_squared_error(y, predictions))\n",
    "    return [rmse,mape]\n",
    "\n",
    "# import external modules\n",
    "import sys, os\n",
    "#ROOT_PATH = os.path.abspath(\".\").split(\"src\")[0]\n",
    "#module_path = os.path.abspath(os.path.join(ROOT_PATH+\"/src/utils/\"))\n",
    "#if module_path not in sys.path:\n",
    "#    sys.path.append(module_path)\n",
    "\n",
    "\n",
    "import seaborn as sns\n",
    "\n",
    "from matplotlib import rc \n",
    "from tabulate import tabulate\n",
    "\n",
    "import keras\n",
    "#from keras import layers, regularizers, Input, Model\n",
    "#from keras.optimizers import RMSprop, Adam, Nadam\n",
    "#from keras.initializers import RandomUniform\n",
    "#from keras import backend as K\n",
    "\n",
    "#import tensorflow as tf\n",
    "#from tensorflow.python.keras.callbacks import EarlyStopping, ModelCheckpoint, ReduceLROnPlateau\n",
    "\n",
    "#import functions as f\n",
    "#import dl_functions as dlf\n",
    "#from generators import batch_generator\n"
   ]
  },
  {
   "cell_type": "code",
   "execution_count": 8,
   "id": "25559a39",
   "metadata": {},
   "outputs": [],
   "source": [
    "\n",
    "df=pd.read_csv('/Users/simennaess/Documents/Master/Ukentlig_vareid_ys_kunde_time_lag_15_20.csv', parse_dates=['Ukedato'], sep=\";\", decimal=\",\", header=0)\n",
    "\n",
    "#Produkter hentet fra produktseleksjon (vasket og deretter hentet ut basert på at de står for 100%, 50% eller 10% \n",
    "#av maksvolumet for enkeltprodukter, samt sesongprodukter. Blant allProducts er det også 12 \n",
    "#ekstra produkter som ligger mellom mid-> low runners.)\n",
    "\n",
    "selectedTopProducts=[10133,9662,9399,9306,9400,10135,9898,9630,9897,9860]\n",
    "selectedMidProducts=[14759,9901,10019,14536,14508,9994,16444,16353,9995, 9307]\n",
    "selectedLowProducts=[14238,14288,14542,10002,10197,16408,16527, 14563, 9541] \n",
    "selectedSeasonalProducts=[10022, 9560, 10005, 9541]\n",
    "\n",
    "allSelectedProducts=[10133, 9662, 9399, 9306, 9400, 10135, 9898, 9630, 9897, 9860, 14759, \n",
    "                     9901, 10019, 14508, 9994, 16444, 16353, 9995, 9205, 14760, 15112, 14536, 16409, \n",
    "                     10022, 14540, 14251, 14490, 10017, 9560, 10005, 14238, 10002, 10197, 16408, 14288, 16527, 9541]\n",
    "\n",
    "df=df[df.Vare_Id.isin(allSelectedProducts)]"
   ]
  },
  {
   "cell_type": "code",
   "execution_count": null,
   "id": "dcdda165",
   "metadata": {},
   "outputs": [],
   "source": [
    "c, p = f.color_palette()\n",
    "sns.set(context='paper', style='whitegrid', palette=np.array(p))\n",
    "plt.style.use('file://' + ROOT_PATH + \"src/utils/plotparams.rc\")"
   ]
  },
  {
   "cell_type": "code",
   "execution_count": null,
   "id": "23b85dde",
   "metadata": {},
   "outputs": [],
   "source": []
  }
 ],
 "metadata": {
  "kernelspec": {
   "display_name": "Python 3 (ipykernel)",
   "language": "python",
   "name": "python3"
  },
  "language_info": {
   "codemirror_mode": {
    "name": "ipython",
    "version": 3
   },
   "file_extension": ".py",
   "mimetype": "text/x-python",
   "name": "python",
   "nbconvert_exporter": "python",
   "pygments_lexer": "ipython3",
   "version": "3.8.9"
  }
 },
 "nbformat": 4,
 "nbformat_minor": 5
}
