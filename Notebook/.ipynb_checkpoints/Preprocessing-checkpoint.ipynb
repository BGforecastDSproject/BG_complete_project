{
 "cells": [
  {
   "cell_type": "code",
   "execution_count": null,
   "id": "8fbec497",
   "metadata": {},
   "outputs": [],
   "source": [
    "import pandas as pd\n",
    "import matplotlib.pyplot as plt\n",
    "import numpy as np\n",
    "import os\n",
    "import gc\n",
    "\n",
    "pd.set_option('display.max_columns', 500)"
   ]
  },
  {
   "cell_type": "code",
   "execution_count": null,
   "id": "92172794",
   "metadata": {},
   "outputs": [],
   "source": [
    "#load POS\n",
    "def full_pos():\n",
    "    df_pos=pd.DataFrame()\n",
    "    for file in os.listdir(\"POS\"):\n",
    "        if file.endswith(\".csv\"):\n",
    "            print(file)\n",
    "            df=pd.read_csv(\n",
    "                os.path.join(\"POS/\",file),\n",
    "                parse_dates=['Dato'], engine='python', sep=';', decimal=\",\", header=0, usecols=['UKE','Dato','Vare_Id','YS_Kunde_Id','Omsetning ink mva','Salgsantall'])\n",
    "            \n",
    "            df['År']=df['UKE'].astype(str).str[:4]\n",
    "            df['Uke']=df['UKE'].astype(str).str[4:6]\n",
    "            df['Ukedato']=pd.to_datetime(df['År']+df['Uke']+'1', format=\"%G%V%w\")\n",
    "            \n",
    "            df_pos =pd.concat([df_pos,df]) \n",
    "\n",
    "    return df_pos\n",
    "df_pos=full_pos()\n",
    "\n",
    "#remove rows with vare_id=0, salgsantall <= 0 or omsetning<=0 because these datapoints are not trustworthy\n",
    "df_pos_trim=df_pos[(df_pos['Salgsantall'] > 0) & (df_pos['Omsetning ink mva'] > 0) & (df_pos['Vare_Id']!=0) & (df_pos['YS_Kunde_Id']!=0)] \n",
    "\n",
    "\n",
    "#delete dfs to clear up space in memory\n",
    "del df_pos,df_pos_trim,df_beholdning\n",
    "gc.collect()\n",
    "\n",
    "#load vacation days\n",
    "ferie_df=pd.read_csv(\"Feriedager 2015-2020.csv\", parse_dates=['Dato'], engine='python', sep=';', header=0)\n",
    "\n",
    "#Left join df and vacation days\n",
    "df_pos_beh_ferie=pd.merge(df, ferie_df, left_on=['Dato_x'], right_on=['Dato'], how='left')\n",
    "\n",
    "#Create column \"Weekend\" where friday-sunday==1\n",
    "df_pos_beh_ferie['Helg'] = ((pd.DatetimeIndex(df_pos_beh_ferie[\"Dato_x\"]).dayofweek) // 4 == 1).astype(float)\n",
    "\n",
    "#parse uker til datoer. \n",
    "#OBS bug i datetime: bruker ikke standard ISO ergo blir det lag med en uke for 2015\n",
    "df_pos_beh_ferie['År']=df_pos_beh_ferie['UKE'].astype(str).str[:4]\n",
    "df_pos_beh_ferie['Uke']=df_pos_beh_ferie['UKE'].astype(str).str[4:6]\n",
    "\n",
    "df_pos_beh_ferie['Ukedato']=pd.to_datetime(df_pos_beh_ferie['År']+df_pos_beh_ferie['Uke']+'1', format=\"%G%V%w\")\n",
    "\n",
    "\n",
    "#remove duplicate/redundant columns\n",
    "df_pos_beh_ferie.drop(['År','Uke','Vare gtin','Dato_y', 'BUTIKKEANLOK_NR','Dato','VAREEAN14_NR'], axis=1, inplace=True)\n",
    "df_pos_beh_ferie.groupby(['Ukedato','YS_Kunde_Id','Vare_Id'], as_index=False).agg({'Salgsantall': 'sum', 'Ferie': 'count ferie.sum/ferie.count', 'Type': 'first'})\n",
    "\n",
    "##########lagre csvfil\n",
    "df_pos_beh_ferie.to_csv('pos_m_ferie_beholdning_helg_trimmet.csv', index=False, header=True, sep=\";\")\n",
    "'''"
   ]
  },
  {
   "cell_type": "code",
   "execution_count": null,
   "id": "6f2ddaa4",
   "metadata": {},
   "outputs": [],
   "source": [
    "#Load storage at each shop\n",
    "def full_beholdning():\n",
    "    df_beholdning = pd.DataFrame()\n",
    "    for file in os.listdir(\"Beholdning\"):\n",
    "        if file.endswith(\".csv\"):\n",
    "            print(file)\n",
    "            df_beholdning = pd.concat([df_beholdning, pd.read_csv(\n",
    "                os.path.join(\"Beholdning/\", file),\n",
    "                engine='python', sep=';', decimal=\",\", header=0,usecols=['UKE', 'YS_Kunde_Id', 'Vare_Id', 'VAREBEHOLDNING_ANT'])])\n",
    "    return df_beholdning\n",
    "df_beholdning=full_beholdning()"
   ]
  },
  {
   "cell_type": "code",
   "execution_count": null,
   "id": "dc5c52f4",
   "metadata": {},
   "outputs": [],
   "source": [
    "#Left join pos with storage\n",
    "df=pd.merge(df_pos_trim, df_beholdning, on=['UKE','YS_Kunde_Id','Vare_Id'], how='left')\n",
    "df.to_csv('POS_15_20.csv', header=0, sep=\";\", decimal=\",\")"
   ]
  },
  {
   "cell_type": "code",
   "execution_count": null,
   "id": "ed40668f",
   "metadata": {},
   "outputs": [],
   "source": [
    "df_varekatalog=pd.read_csv(\"DimVare.csv\", engine='python', sep=';', header=0, decimal=',', usecols=['Vare_Id', 'Produkthierarki', 'Varegruppe'])\n",
    "\n",
    "#usecols=['Vare_Id', 'Produkthierarki', 'Varegruppe','Vare','EANnr dpk','EANnr fpk','Sesongtype', 'SalgsenhType'])\n",
    "\n",
    "df_vare=pd.merge(df,df_varekatalog, on=['Vare_Id'], how='left')    \n",
    "    "
   ]
  },
  {
   "cell_type": "code",
   "execution_count": null,
   "id": "6b3dc6f4",
   "metadata": {},
   "outputs": [],
   "source": [
    "#load vacation days\n",
    "ferie_df=pd.read_csv(\"Feriedager 2015-2020.csv\", parse_dates=['Dato'], engine='python', sep=';', header=0)\n",
    "\n",
    "#Left join df and vacation days\n",
    "df_pos_beh_ferie=pd.merge(df, ferie_df, left_on=['Dato_x'], right_on=['Dato'], how='left')\n",
    "\n",
    "\n",
    "#remove duplicate/redundant columns\n",
    "#df_pos_beh_ferie.drop(['År','Uke','Vare gtin','Dato_y', 'BUTIKKEANLOK_NR','Dato','VAREEAN14_NR'], axis=1, inplace=True)\n",
    "df_pos_beh_ferie.groupby(['Ukedato','YS_Kunde_Id','Vare_Id'], as_index=False).agg({'Salgsantall': 'sum'})\n",
    "##########lagre csvfil\n",
    "df_pos_beh_ferie.to_csv('uke_m_kundeId_vareId_salgsum.csv', index=False, header=0, sep=\";\", delimiter=\",\")"
   ]
  },
  {
   "cell_type": "code",
   "execution_count": null,
   "id": "b52e3926",
   "metadata": {},
   "outputs": [],
   "source": [
    "#Load customer portefolio\n",
    "def kunde_dim():\n",
    "    df=pd.read_csv(\"Dim_YS_Kunde.csv\", engine='python', sep=';', decimal=\",\", header=0,usecols=['YS_Kunde_Id','Kjedeprofil', 'KjedeprofilNiv2','ButikkEANLoknr']) \n",
    "                   #usecols=['YS_Kunde_Id','KundeNavn','Kjedeprofil', 'KjedeprofilNiv2', 'Profil', 'ButikkEANLoknr'])\n",
    "    return df\n",
    "df_kunde_dim=kunde_dim()"
   ]
  },
  {
   "cell_type": "code",
   "execution_count": null,
   "id": "063c3414",
   "metadata": {},
   "outputs": [],
   "source": [
    "df=pd.merge(df_vare,df_kunde_dim, how='left', on='YS_Kunde_Id')\n"
   ]
  },
  {
   "cell_type": "code",
   "execution_count": null,
   "id": "23777a51",
   "metadata": {},
   "outputs": [],
   "source": [
    "#Load GPS position and population density for each store\n",
    "def geo_store():\n",
    "    df=pd.read_csv(\"stores_nearby_houses.csv\", engine='python', sep=';', decimal=\",\", header=0, usecols=['name','ref:norgesgruppen','nearby_houses'])\n",
    "    return df\n",
    "df_geo_store=geo_store()\n",
    "\n",
    "#Manual modifications on keys to enable a join on customer portefolio\n",
    "df_geo_store['name']=df_geo_store['name'].str.upper()\n",
    "df_geo_store[\"ref:norgesgruppen\"]+=7080000000000 '''"
   ]
  },
  {
   "cell_type": "code",
   "execution_count": null,
   "id": "7e1ce951",
   "metadata": {},
   "outputs": [],
   "source": [
    "#Left join population to pos_df\n",
    "complete_pos_storeinfo_nearbyhouses_productcategory=pd.merge(df, df_geo_store, left_on=['ButikkEANLoknr'], right_on=['ref:norgesgruppen'], how='left')\n",
    "\n",
    "complete_pos_storeinfo_nearbyhouses_productcategory.describe()"
   ]
  }
 ],
 "metadata": {
  "kernelspec": {
   "display_name": "Python 3 (ipykernel)",
   "language": "python",
   "name": "python3"
  },
  "language_info": {
   "codemirror_mode": {
    "name": "ipython",
    "version": 3
   },
   "file_extension": ".py",
   "mimetype": "text/x-python",
   "name": "python",
   "nbconvert_exporter": "python",
   "pygments_lexer": "ipython3",
   "version": "3.8.9"
  }
 },
 "nbformat": 4,
 "nbformat_minor": 5
}
