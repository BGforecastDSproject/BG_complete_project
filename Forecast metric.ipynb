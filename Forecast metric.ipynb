{
 "cells": [
  {
   "cell_type": "code",
   "execution_count": 14,
   "id": "4471c872",
   "metadata": {},
   "outputs": [
    {
     "name": "stdout",
     "output_type": "stream",
     "text": [
      "[2 0 2 3]\n",
      "[ True False  True  True]\n",
      "weights [1000    1 1000 1000]\n",
      "7000\n",
      "3001\n",
      "[2 0 2 3]\n",
      "[False False False False]\n",
      "weights [1 1 1 1]\n",
      "7\n",
      "4\n",
      "Weighted Mean Absolute Error, low estimations: 2.332555814728424\n",
      "Weighted Mean Absolute Error, high estimations: 1.75\n"
     ]
    }
   ],
   "source": [
    "import numpy as np\n",
    "\n",
    "def weighted_mean_absolute_error(y_true, y_pred, underestimation_penalty=100):\n",
    "    \"\"\"\n",
    "    Calculate the weighted mean absolute error between true and predicted values,\n",
    "    with a penalty for underestimations.\n",
    "\n",
    "    :param y_true: Array-like of true values\n",
    "    :param y_pred: Array-like of predicted values\n",
    "    :param underestimation_penalty: Weight to penalize underestimations (default: 100)\n",
    "    :return: Weighted mean absolute error\n",
    "    \"\"\"\n",
    "    y_true = np.asarray(y_true)\n",
    "    y_pred = np.asarray(y_pred)\n",
    "\n",
    "    # Calculate the absolute errors\n",
    "    abs_errors = np.abs(y_true - y_pred)\n",
    "    print(abs_errors)\n",
    "\n",
    "    # Identify underestimations\n",
    "    underestimations = y_pred < y_true\n",
    "    print(underestimations)\n",
    "    \n",
    "    # Apply the underestimation penalty\n",
    "    weights = np.ones_like(y_true)\n",
    "    \n",
    "    weights[underestimations] = underestimation_penalty\n",
    "    \n",
    "    print(\"weights\", weights)\n",
    "\n",
    "    # Calculate the weighted mean absolute error\n",
    "    wmae = np.sum(weights * abs_errors) / np.sum(weights)\n",
    "    print(np.sum(weights * abs_errors))\n",
    "    print(np.sum(weights))\n",
    "    \n",
    "\n",
    "    return wmae\n",
    "\n",
    "# Example usage\n",
    "y_true = np.array([5, 10, 15, 20])\n",
    "y_pred_low = np.array([3, 10, 13, 17])\n",
    "y_pred_high = np.array([7, 10, 17, 23])\n",
    "\n",
    "wmae_low = weighted_mean_absolute_error(y_true, y_pred_low)\n",
    "wmae_high = weighted_mean_absolute_error(y_true, y_pred_high)\n",
    "print(\"Weighted Mean Absolute Error, low estimations:\", wmae_low)\n",
    "print(\"Weighted Mean Absolute Error, high estimations:\", wmae_high)\n"
   ]
  },
  {
   "cell_type": "code",
   "execution_count": 18,
   "id": "781f1dfb",
   "metadata": {},
   "outputs": [
    {
     "name": "stdout",
     "output_type": "stream",
     "text": [
      "Underestimate-weigthed MSE, low estimations: 17.0\n",
      "Underestimate-weigthed MSE, high estimations: 4.25\n"
     ]
    }
   ],
   "source": [
    "import numpy as np\n",
    "\n",
    "def underestimate_weighted_mse(y_true, y_pred, weight=2.0):\n",
    "    \"\"\"\n",
    "    This function computes the underestimate-weighted MSE.\n",
    "    \n",
    "    Parameters:\n",
    "    y_true : ndarray\n",
    "        True values. \n",
    "    y_pred : ndarray\n",
    "        Estimated values.\n",
    "    weight: float\n",
    "        Weight for underestimation. Empirically estimated.\n",
    "        Defaults to 2.0\n",
    "        \n",
    "    Returns:\n",
    "    float\n",
    "        Underestimate-weighted MSE\n",
    "    \"\"\"\n",
    "    \n",
    "    if len(y_true) != len(y_pred):\n",
    "        raise ValueError(\"The lengths of the input arrays do not match.\")\n",
    "    \n",
    "    # Calculate residuals\n",
    "    residuals = y_true - y_pred\n",
    "    \n",
    "    # Apply weights\n",
    "    weighted_residuals = np.where(residuals > 0, residuals * weight, residuals)\n",
    "    \n",
    "    # Calculate the underestimate-weighted MSE\n",
    "    uwmse = np.mean(weighted_residuals**2)\n",
    "    \n",
    "    return uwmse\n",
    "\n",
    "y_true = np.array([5, 10, 15, 20])\n",
    "\n",
    "# Two arrays with similar absolute error, but the first underestimates and the second overestimates\n",
    "y_pred_low = np.array([3, 10, 13, 17])\n",
    "y_pred_high = np.array([7, 10, 17, 23])\n",
    "\n",
    "uw_mse_low = underestimate_weighted_mse(y_true, y_pred_low)\n",
    "uw_mse_high = underestimate_weighted_mse(y_true, y_pred_high)\n",
    "print(\"Underestimate-weigthed MSE, low estimations:\", uw_mse_low)\n",
    "print(\"Underestimate-weigthed MSE, high estimations:\", uw_mse_high)"
   ]
  },
  {
   "cell_type": "code",
   "execution_count": null,
   "id": "98f1665d",
   "metadata": {},
   "outputs": [],
   "source": []
  }
 ],
 "metadata": {
  "kernelspec": {
   "display_name": "Python 3 (ipykernel)",
   "language": "python",
   "name": "python3"
  },
  "language_info": {
   "codemirror_mode": {
    "name": "ipython",
    "version": 3
   },
   "file_extension": ".py",
   "mimetype": "text/x-python",
   "name": "python",
   "nbconvert_exporter": "python",
   "pygments_lexer": "ipython3",
   "version": "3.8.9"
  }
 },
 "nbformat": 4,
 "nbformat_minor": 5
}
